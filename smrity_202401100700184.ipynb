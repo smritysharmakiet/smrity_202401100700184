{
  "nbformat": 4,
  "nbformat_minor": 0,
  "metadata": {
    "colab": {
      "provenance": []
    },
    "kernelspec": {
      "name": "python3",
      "display_name": "Python 3"
    },
    "language_info": {
      "name": "python"
    }
  },
  "cells": [
    {
      "cell_type": "code",
      "execution_count": 4,
      "metadata": {
        "colab": {
          "base_uri": "https://localhost:8080/",
          "height": 106
        },
        "id": "D9TNAjgDWGPP",
        "outputId": "08ed3887-9d13-40ec-c1c7-e522c35ea7f3"
      },
      "outputs": [
        {
          "output_type": "error",
          "ename": "IndentationError",
          "evalue": "unindent does not match any outer indentation level (<tokenize>, line 26)",
          "traceback": [
            "\u001b[0;36m  File \u001b[0;32m\"<tokenize>\"\u001b[0;36m, line \u001b[0;32m26\u001b[0m\n\u001b[0;31m    else:\u001b[0m\n\u001b[0m    ^\u001b[0m\n\u001b[0;31mIndentationError\u001b[0m\u001b[0;31m:\u001b[0m unindent does not match any outer indentation level\n"
          ]
        }
      ],
      "source": []
    },
    {
      "cell_type": "code",
      "source": [
        "# develop a function to monitor temperature and provide alert..\n",
        "#hints:\n",
        "#use \"random\" library\n",
        "#define upper and lower range\n",
        "#take a i/p from user\n",
        "# display alter for both lower temp and higher temp\n",
        "\n",
        "import random\n",
        "\n",
        "def monitor_temperature():\n",
        "    lower_limit = float(input(\"Enter lower temperature limit: \"))\n",
        "    upper_limit = float(input(\"Enter upper temperature limit: \"))\n",
        "\n",
        "    # Simulating temperature input\n",
        "    temperature = float(input(\"Enter current temperature (or type 'random' for a random value): \"))\n",
        "\n",
        "    if temperature == 'random':\n",
        "        temperature = random.uniform(-10, 50)  # Simulating temperature between -10°C and 50°C\n",
        "\n",
        "    print(f\"Current Temperature: {temperature:.2f}°C\")\n",
        "\n",
        "    if temperature < lower_limit:\n",
        "        print(\" Alert! Temperature is too LOW! \")\n",
        "    elif temperature > upper_limit:\n",
        "        print(\" Alert! Temperature is too HIGH! \")\n",
        "    else:\n",
        "        print(\" Temperature is within the safe range.\")\n",
        "\n",
        "monitor_temperature()"
      ],
      "metadata": {
        "colab": {
          "base_uri": "https://localhost:8080/"
        },
        "id": "BlGtHNcRW4PW",
        "outputId": "fe7dcf2f-9695-4364-fc42-4baedb43890e"
      },
      "execution_count": 5,
      "outputs": [
        {
          "output_type": "stream",
          "name": "stdout",
          "text": [
            "Enter lower temperature limit: 10\n",
            "Enter upper temperature limit: 60\n",
            "Enter current temperature (or type 'random' for a random value): 30\n",
            "Current Temperature: 30.00°C\n",
            " Temperature is within the safe range.\n"
          ]
        }
      ]
    },
    {
      "cell_type": "code",
      "source": [],
      "metadata": {
        "id": "8I3i12kNXDQM"
      },
      "execution_count": null,
      "outputs": []
    }
  ]
}